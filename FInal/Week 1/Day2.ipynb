{
 "cells": [
  {
   "cell_type": "code",
   "execution_count": 13,
   "id": "3df7a041-a050-471b-85f5-6e0186016a02",
   "metadata": {},
   "outputs": [
    {
     "name": "stdout",
     "output_type": "stream",
     "text": [
      "File exported\n"
     ]
    }
   ],
   "source": [
    "import requests\n",
    "import pandas as pd\n",
    "\n",
    "# Define a function to get tweets from the ScraperAPI\n",
    "def get_tweets(api_key, query, num):\n",
    "    payload = {\n",
    "        'api_key': '0e6a241372ca4acc3f92439b14a231c5',\n",
    "        'query': 'Banglore airports hospitality',\n",
    "        'num': 50\n",
    "    }\n",
    "    response = requests.get(\n",
    "        'https://api.scraperapi.com/structured/twitter/search',\n",
    "        params=payload\n",
    "    )\n",
    "    data = response.json()\n",
    "    return data['organic_results']\n",
    "\n",
    "# Get tweets about immigration forms at Bangalore airport\n",
    "twitter_data = get_tweets(api_key='0e6a241372ca4acc3f92439b14a231c5', query='Banglore airports hospitality', num=50)\n",
    "\n",
    "# Create a Pandas DataFrame from the tweet data\n",
    "df = pd.DataFrame(twitter_data)\n",
    "\n",
    "# Export the DataFrame to an Excel spreadsheet\n",
    "df.to_excel('/Users/harshith/Desktop/untitled folder 2/intern2.xlsx', index=False)\n",
    "\n",
    "# Print a message to indicate that the file has been exported\n",
    "print('File exported')\n"
   ]
  },
  {
   "cell_type": "code",
   "execution_count": null,
   "id": "9507d8e2-5cfb-431a-b50b-d687f56d5c76",
   "metadata": {},
   "outputs": [],
   "source": []
  }
 ],
 "metadata": {
  "kernelspec": {
   "display_name": "Python 3 (ipykernel)",
   "language": "python",
   "name": "python3"
  },
  "language_info": {
   "codemirror_mode": {
    "name": "ipython",
    "version": 3
   },
   "file_extension": ".py",
   "mimetype": "text/x-python",
   "name": "python",
   "nbconvert_exporter": "python",
   "pygments_lexer": "ipython3",
   "version": "3.9.13"
  }
 },
 "nbformat": 4,
 "nbformat_minor": 5
}
