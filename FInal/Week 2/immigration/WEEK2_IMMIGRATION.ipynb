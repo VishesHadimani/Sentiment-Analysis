{
 "cells": [
  {
   "cell_type": "markdown",
   "id": "34101133-67d4-4632-beea-302d01325a1c",
   "metadata": {},
   "source": [
    "**IMMIGRATION:**\n",
    "    \n"
   ]
  },
  {
   "cell_type": "markdown",
   "id": "d72a254c-a0ee-4371-96bb-6afb7761f032",
   "metadata": {},
   "source": [
    "FOR CLEANING DATA ABOUT VISA"
   ]
  },
  {
   "cell_type": "code",
   "execution_count": 3,
   "id": "98a65a0c-b500-4efe-ae39-df1b18e49fde",
   "metadata": {},
   "outputs": [
    {
     "name": "stdout",
     "output_type": "stream",
     "text": [
      "Cleaned data saved to /Users/harshith/Desktop/untitled folder 3/immigration/visa.csv\n"
     ]
    }
   ],
   "source": [
    "import pandas as pd\n",
    "import re\n",
    "\n",
    "# Define a function to perform the data cleaning tasks\n",
    "def clean_text(text):\n",
    "    # Convert to lowercase\n",
    "    text = text.lower()\n",
    "    # Remove links (URLs)\n",
    "    text = re.sub(r'http\\S+', '', text)\n",
    "    \n",
    "    # Remove punctuation and symbols\n",
    "    text = re.sub(r'[^\\w\\s]', ' ', text)\n",
    "    \n",
    "    # Remove @user mentions\n",
    "    text = re.sub(r'@\\w+', '', text)\n",
    "    \n",
    "    # Remove hashtags\n",
    "    text = re.sub(r'#\\w+', '', text)\n",
    "    \n",
    "   \n",
    "    \n",
    "    return text\n",
    "\n",
    "# Load the data from an Excel file\n",
    "file_path = \"/Users/harshith/Downloads/WEEK2/Immigration/visa.csv\"\n",
    "df = pd.read_csv(file_path)\n",
    "\n",
    "# Apply the cleaning function to the specified column\n",
    "df['full_text'] = df['full_text'].apply(clean_text)\n",
    "# Remove duplicates\n",
    "df.drop_duplicates(subset=['full_text'], inplace=True)\n",
    "\n",
    "# Remove rows with null values\n",
    "df.dropna(subset=['full_text'], inplace=True)\n",
    "\n",
    "# Save the cleaned data back to a new Excel file\n",
    "cleaned_file_path = \"/Users/harshith/Desktop/untitled folder 3/immigration/visa.csv\"\n",
    "df.to_csv(cleaned_file_path, index=False)\n",
    "\n",
    "print(f\"Cleaned data saved to {cleaned_file_path}\")"
   ]
  },
  {
   "cell_type": "code",
   "execution_count": null,
   "id": "2880ee9c-a695-4984-a843-811ae95636ba",
   "metadata": {},
   "outputs": [],
   "source": []
  },
  {
   "cell_type": "code",
   "execution_count": 5,
   "id": "9f54d41a-8bea-468c-89bd-faee6eb9c116",
   "metadata": {},
   "outputs": [
    {
     "name": "stdout",
     "output_type": "stream",
     "text": [
      "Cleaned data saved to /Users/harshith/Desktop/untitled folder 3/immigration/passport.csv\n"
     ]
    }
   ],
   "source": [
    "import pandas as pd\n",
    "import re\n",
    "\n",
    "# Define a function to perform the data cleaning tasks\n",
    "def clean_text(text):\n",
    "    # Convert to lowercase\n",
    "    text = text.lower()\n",
    "    # Remove links (URLs)\n",
    "    text = re.sub(r'http\\S+', '', text)\n",
    "    \n",
    "    # Remove punctuation and symbols\n",
    "    text = re.sub(r'[^\\w\\s]', ' ', text)\n",
    "    \n",
    "    # Remove @user mentions\n",
    "    text = re.sub(r'@\\w+', '', text)\n",
    "    \n",
    "    # Remove hashtags\n",
    "    text = re.sub(r'#\\w+', '', text)\n",
    "    \n",
    "   \n",
    "    \n",
    "    return text\n",
    "\n",
    "# Load the data from an Excel file\n",
    "file_path = \"/Users/harshith/Downloads/WEEK2/Immigration/passport.csv\"\n",
    "df = pd.read_csv(file_path)\n",
    "\n",
    "# Apply the cleaning function to the specified column\n",
    "df['full_text'] = df['full_text'].apply(clean_text)\n",
    "# Remove duplicates\n",
    "df.drop_duplicates(subset=['full_text'], inplace=True)\n",
    "\n",
    "# Remove rows with null values\n",
    "df.dropna(subset=['full_text'], inplace=True)\n",
    "\n",
    "# Save the cleaned data back to a new Excel file\n",
    "cleaned_file_path = \"/Users/harshith/Desktop/untitled folder 3/immigration/passport.csv\"\n",
    "df.to_csv(cleaned_file_path, index=False)\n",
    "\n",
    "print(f\"Cleaned data saved to {cleaned_file_path}\")"
   ]
  },
  {
   "cell_type": "code",
   "execution_count": 6,
   "id": "ca2945bf-9350-4347-8db7-e2be2c5d309f",
   "metadata": {},
   "outputs": [
    {
     "name": "stdout",
     "output_type": "stream",
     "text": [
      "Cleaned data saved to /Users/harshith/Desktop/untitled folder 3/immigration/security.csv\n"
     ]
    }
   ],
   "source": [
    "import pandas as pd\n",
    "import re\n",
    "\n",
    "# Define a function to perform the data cleaning tasks\n",
    "def clean_text(text):\n",
    "    # Convert to lowercase\n",
    "    text = text.lower()\n",
    "    # Remove links (URLs)\n",
    "    text = re.sub(r'http\\S+', '', text)\n",
    "    \n",
    "    # Remove punctuation and symbols\n",
    "    text = re.sub(r'[^\\w\\s]', ' ', text)\n",
    "    \n",
    "    # Remove @user mentions\n",
    "    text = re.sub(r'@\\w+', '', text)\n",
    "    \n",
    "    # Remove hashtags\n",
    "    text = re.sub(r'#\\w+', '', text)\n",
    "    \n",
    "   \n",
    "    \n",
    "    return text\n",
    "\n",
    "# Load the data from an Excel file\n",
    "file_path = \"/Users/harshith/Downloads/WEEK2/Immigration/security check.csv\"\n",
    "df = pd.read_csv(file_path)\n",
    "\n",
    "# Apply the cleaning function to the specified column\n",
    "df['full_text'] = df['full_text'].apply(clean_text)\n",
    "# Remove duplicates\n",
    "df.drop_duplicates(subset=['full_text'], inplace=True)\n",
    "\n",
    "# Remove rows with null values\n",
    "df.dropna(subset=['full_text'], inplace=True)\n",
    "\n",
    "# Save the cleaned data back to a new Excel file\n",
    "cleaned_file_path = \"/Users/harshith/Desktop/untitled folder 3/immigration/security.csv\"\n",
    "df.to_csv(cleaned_file_path, index=False)\n",
    "\n",
    "print(f\"Cleaned data saved to {cleaned_file_path}\")"
   ]
  },
  {
   "cell_type": "code",
   "execution_count": null,
   "id": "901018bd-c6dc-447e-8abf-93681cc11468",
   "metadata": {},
   "outputs": [],
   "source": []
  }
 ],
 "metadata": {
  "kernelspec": {
   "display_name": "Python 3 (ipykernel)",
   "language": "python",
   "name": "python3"
  },
  "language_info": {
   "codemirror_mode": {
    "name": "ipython",
    "version": 3
   },
   "file_extension": ".py",
   "mimetype": "text/x-python",
   "name": "python",
   "nbconvert_exporter": "python",
   "pygments_lexer": "ipython3",
   "version": "3.9.13"
  }
 },
 "nbformat": 4,
 "nbformat_minor": 5
}
